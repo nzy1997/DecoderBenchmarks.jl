{
 "cells": [
  {
   "cell_type": "code",
   "execution_count": 46,
   "metadata": {},
   "outputs": [],
   "source": [
    "import numpy as np\n",
    "from ldpc import BpOsdDecoder\n",
    "import time\n",
    "from load_data import *"
   ]
  },
  {
   "cell_type": "code",
   "execution_count": 53,
   "metadata": {},
   "outputs": [
    {
     "name": "stdout",
     "output_type": "stream",
     "text": [
      "(132, 288)\n"
     ]
    }
   ],
   "source": [
    "H = load_H('pcm.txt')\n",
    "print(H.shape)"
   ]
  },
  {
   "cell_type": "code",
   "execution_count": 50,
   "metadata": {},
   "outputs": [
    {
     "data": {
      "text/plain": [
       "(100000, 288)"
      ]
     },
     "execution_count": 50,
     "metadata": {},
     "output_type": "execute_result"
    }
   ],
   "source": [
    "e = load_e('error.txt')\n",
    "e.shape"
   ]
  },
  {
   "cell_type": "code",
   "execution_count": 58,
   "metadata": {},
   "outputs": [
    {
     "name": "stdout",
     "output_type": "stream",
     "text": [
      "8.129537105560302e-06\n"
     ]
    }
   ],
   "source": [
    "time_sum = 0\n",
    "bp_osd = BpOsdDecoder(\n",
    "            H,\n",
    "            error_rate = 0.01,\n",
    "            bp_method = 'product_sum',\n",
    "            max_iter = 7,\n",
    "            schedule = 'serial',\n",
    "            osd_method = 'OSD_0', #set to OSD_0 for fast solve\n",
    "            osd_order = 0\n",
    "        )\n",
    "e = load_e('error.txt')\n",
    "for i in range(e.shape[0]):\n",
    "    syn = H@np.transpose(e[i,:])%2\n",
    "    start_time = time.time()\n",
    "    decoding = bp_osd.decode(syn)\n",
    "    end_time = time.time()\n",
    "    time_sum += end_time - start_time\n",
    "print(time_sum/e.shape[0])"
   ]
  },
  {
   "cell_type": "code",
   "execution_count": null,
   "metadata": {},
   "outputs": [
    {
     "name": "stdout",
     "output_type": "stream",
     "text": [
      "(440, 882)\n",
      "0\n",
      "(220, 441)\n"
     ]
    }
   ],
   "source": [
    "path = 'pcm21.txt'\n",
    "H = load_H(path)\n",
    "print(H.shape)\n",
    "# print(sum(sum(H[0:220,441:-1])))\n",
    "H = H[220:440,441:882]\n",
    "print(H.shape)"
   ]
  },
  {
   "cell_type": "code",
   "execution_count": 42,
   "metadata": {},
   "outputs": [
    {
     "name": "stdout",
     "output_type": "stream",
     "text": [
      "17\n",
      "0.0015969276428222656\n",
      "0\n"
     ]
    }
   ],
   "source": [
    "e = np.zeros((441,),dtype=np.uint8)\n",
    "e[37] = 1\n",
    "e[115] = 1\n",
    "e[117] = 1\n",
    "e[129] = 1\n",
    "e[144] = 1\n",
    "e[178] = 1\n",
    "e[210] = 1\n",
    "e[246] = 1\n",
    "e[400] = 1\n",
    "print(sum(H.dot(e)))\n",
    "\n",
    "bp_osd = BpOsdDecoder(\n",
    "            H,\n",
    "            error_rate = 0.01,\n",
    "            bp_method = 'product_sum',\n",
    "            max_iter = 7,\n",
    "            schedule = 'serial',\n",
    "            osd_method = 'osd_cs', #set to OSD_0 for fast solve\n",
    "            osd_order = 2\n",
    "        )\n",
    "syndrome = H@e % 2\n",
    "start_time = time.time()\n",
    "decoding = bp_osd.decode(syndrome)\n",
    "end_time = time.time()\n",
    "print(end_time - start_time)\n",
    "\n",
    "decoding_syndrome = H@decoding % 2\n",
    "print(sum(decoding_syndrome - syndrome))"
   ]
  },
  {
   "cell_type": "code",
   "execution_count": 25,
   "metadata": {},
   "outputs": [
    {
     "name": "stdout",
     "output_type": "stream",
     "text": [
      "Decoding syndrome: [0 0 0 0 0 0 0 1 0 0 0 0 0 0 0 0 0 0 1 0 0 0 0 0 0 0 0 0 0 0 0 0 0 0 0 0 0\n",
      " 0 0 0 0 0 0 0 1 1 0 0 0 0 0 1 0 0 0 1 1 0 0 1 0 1 0 0 0 0 0 0 1 0 0 0 0 0\n",
      " 0 1 0 0 0 0 0 0 0 0 1 0 0 0 0 0 1 0 0 0 0 0 0 0 0 0 0 0 0 0 0 0 0 1 0 0 0\n",
      " 0 0 0 0 0 0 1 0 0 0 0 0 0 0 0 0 0 0 0 0 0 0 0 0 0 0 0 0 0 0 0 0 0 0 0 0 0\n",
      " 0 0 0 0 0 0 0 0 0 0 0 0 0 0 0 0 0 0 0 0 0 0 0 0 0 0 0 0 0 0 0 0 1 0 0 0 0\n",
      " 0 0 0 0 0 1 0 0 0 0 0 0 0 0 0 0 0 0 0 0 0 0 0 0 0 0 0 0 0 0 0 0 0 0 0]\n"
     ]
    }
   ],
   "source": [
    "\n",
    "decoding_syndrome = H@decoding % 2\n",
    "print(f\"Decoding syndrome: {decoding_syndrome}\")"
   ]
  },
  {
   "cell_type": "code",
   "execution_count": null,
   "metadata": {},
   "outputs": [],
   "source": []
  }
 ],
 "metadata": {
  "kernelspec": {
   "display_name": "base",
   "language": "python",
   "name": "python3"
  },
  "language_info": {
   "codemirror_mode": {
    "name": "ipython",
    "version": 3
   },
   "file_extension": ".py",
   "mimetype": "text/x-python",
   "name": "python",
   "nbconvert_exporter": "python",
   "pygments_lexer": "ipython3",
   "version": "3.13.3"
  }
 },
 "nbformat": 4,
 "nbformat_minor": 2
}
