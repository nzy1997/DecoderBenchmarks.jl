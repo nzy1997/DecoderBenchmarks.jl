{
 "cells": [
  {
   "cell_type": "code",
   "execution_count": 2,
   "metadata": {},
   "outputs": [],
   "source": [
    "import numpy as np\n",
    "from ldpc import BpOsdDecoder\n",
    "import time"
   ]
  },
  {
   "cell_type": "code",
   "execution_count": 5,
   "metadata": {},
   "outputs": [
    {
     "name": "stdout",
     "output_type": "stream",
     "text": [
      "[[0 1 1 ... 0 0 0]\n",
      " [0 0 1 ... 0 0 0]\n",
      " [0 0 0 ... 0 0 0]\n",
      " ...\n",
      " [0 0 0 ... 0 0 0]\n",
      " [0 0 0 ... 0 1 1]\n",
      " [0 0 0 ... 0 0 1]]\n"
     ]
    }
   ],
   "source": [
    "path = 'pcm.txt'\n",
    "file = open(path, 'r')\n",
    "data = file.readlines()\n",
    "ns = 132\n",
    "nq = 288\n",
    "H = np.zeros((ns, nq),dtype=np.uint8)\n",
    "for k in range(len(data)):\n",
    "    H[k,:] = np.array(data[k].split(),dtype=np.uint8)\n",
    "print(H)"
   ]
  },
  {
   "cell_type": "code",
   "execution_count": 8,
   "metadata": {},
   "outputs": [
    {
     "name": "stdout",
     "output_type": "stream",
     "text": [
      "1.9775376319885253e-05\n"
     ]
    }
   ],
   "source": [
    "path = 'error.txt'\n",
    "file = open(path, 'r')\n",
    "data = file.readlines()\n",
    "time_sum = 0\n",
    "bp_osd = BpOsdDecoder(\n",
    "            H,\n",
    "            error_rate = 0.01,\n",
    "            bp_method = 'product_sum',\n",
    "            max_iter = 7,\n",
    "            schedule = 'serial',\n",
    "            osd_method = 'OSD_0', #set to OSD_0 for fast solve\n",
    "            osd_order = 0\n",
    "        )\n",
    "for i in range(len(data)):\n",
    "    e = np.array(data[i].split(),dtype=np.uint8)\n",
    "    start_time = time.time()\n",
    "    decoding = bp_osd.decode(H.dot(e))\n",
    "    end_time = time.time()\n",
    "    time_sum += end_time - start_time\n",
    "print(time_sum/len(data))"
   ]
  },
  {
   "cell_type": "code",
   "execution_count": null,
   "metadata": {},
   "outputs": [],
   "source": []
  }
 ],
 "metadata": {
  "kernelspec": {
   "display_name": "base",
   "language": "python",
   "name": "python3"
  },
  "language_info": {
   "codemirror_mode": {
    "name": "ipython",
    "version": 3
   },
   "file_extension": ".py",
   "mimetype": "text/x-python",
   "name": "python",
   "nbconvert_exporter": "python",
   "pygments_lexer": "ipython3",
   "version": "3.13.3"
  }
 },
 "nbformat": 4,
 "nbformat_minor": 2
}
